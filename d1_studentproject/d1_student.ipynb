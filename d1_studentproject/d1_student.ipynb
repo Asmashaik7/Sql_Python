{
 "cells": [
  {
   "cell_type": "code",
   "execution_count": 1,
   "id": "0ad163b0-e8db-4ae0-8d35-7ffc5ce2cf2f",
   "metadata": {},
   "outputs": [],
   "source": [
    "#Tasks :Day1-Chatgpt"
   ]
  },
  {
   "cell_type": "code",
   "execution_count": 2,
   "id": "e7c96ea2-95f9-4d74-9f78-9e2281c4f767",
   "metadata": {},
   "outputs": [
    {
     "name": "stdout",
     "output_type": "stream",
     "text": [
      "My name is Asma shaik. My goal is to become job ready for python and sql\n"
     ]
    }
   ],
   "source": [
    "#task1\n",
    "print(\"My name is Asma shaik. My goal is to become job ready for python and sql\")"
   ]
  },
  {
   "cell_type": "code",
   "execution_count": 3,
   "id": "bd5ce6f2-bf7d-4a0b-9811-acd87b20635f",
   "metadata": {},
   "outputs": [
    {
     "name": "stdout",
     "output_type": "stream",
     "text": [
      " My name is Asma Shaik.I am 30 years old. My goal is to learn python and sql,to get job ready and Get a data job. I am interested in data analytics.\n"
     ]
    }
   ],
   "source": [
    "#Task2:\n",
    "name=\"Asma Shaik\"\n",
    "age=30\n",
    "goal=\"Get a data job\"\n",
    "print(f\" My name is {name}.I am {age} years old. My goal is to learn python and sql,to get job ready and {goal}. I am interested in data analytics.\")"
   ]
  },
  {
   "cell_type": "code",
   "execution_count": 4,
   "id": "e8ef110e-45af-43c6-8400-c7b2bb1711ae",
   "metadata": {},
   "outputs": [],
   "source": [
    "#Take a user input for a number and calculate: Square, cube, square root(use import math)"
   ]
  },
  {
   "cell_type": "code",
   "execution_count": 1,
   "id": "4dcec798-0b60-4501-8eba-f2cfe2564c22",
   "metadata": {},
   "outputs": [
    {
     "name": "stdout",
     "output_type": "stream",
     "text": [
      "Enter a number 4\n"
     ]
    },
    {
     "name": "stdout",
     "output_type": "stream",
     "text": [
      "Square: 16\n",
      "Cube: 64\n",
      "Square Root: 2.0\n"
     ]
    },
    {
     "name": "stdout",
     "output_type": "stream",
     "text": [
      "Enter any number to add 5\n"
     ]
    },
    {
     "name": "stdout",
     "output_type": "stream",
     "text": [
      "addition of 2 numbers:  9\n"
     ]
    }
   ],
   "source": [
    "#Task3:\n",
    "import math\n",
    "num=int(input(\"Enter a number\"))\n",
    "print(\"Square:\",num**2) #squaring num\n",
    "print(\"Cube:\",num**3) #cubing num\n",
    "print(\"Square Root:\",math.sqrt(num)) #by using math module, using sqrt() , we found square root of the number\n",
    "num2=int(input(\"Enter any number to add\"))\n",
    "print(\"addition of 2 numbers: \",num+num2)\n"
   ]
  },
  {
   "cell_type": "code",
   "execution_count": 2,
   "id": "e910db3d-cfba-47c2-8aed-1899633d7cf8",
   "metadata": {},
   "outputs": [
    {
     "name": "stdout",
     "output_type": "stream",
     "text": [
      "3.141592653589793\n"
     ]
    }
   ],
   "source": [
    "#math module \n",
    "#The math.pi constant, returns the value of PI (3.14...)\n",
    "x = math.pi\n",
    "print(x)"
   ]
  },
  {
   "cell_type": "code",
   "execution_count": null,
   "id": "6ce387c0-92f1-4c6c-90fd-e43352b71603",
   "metadata": {},
   "outputs": [],
   "source": [
    "#max(), min(), ceil(), floor()\n",
    "a=math.ceil(1.75) #The math.ceil() method rounds a number upwards to its nearest integer.\n",
    "b=math.floor(1.75) #The math.floor() method rounds a number downwards to its nearest integer\n",
    "print(\"Ceil a:\",a ,\"and floor b:\", b)"
   ]
  },
  {
   "cell_type": "code",
   "execution_count": null,
   "id": "52e261cb-5503-43f6-b144-55d2386659e1",
   "metadata": {},
   "outputs": [],
   "source": [
    "#Returns the absolute (positive) value of the specified number\n",
    "abs(-1.74)"
   ]
  },
  {
   "cell_type": "code",
   "execution_count": null,
   "id": "f5565ae4-6396-434f-b38f-91afc16f4e6e",
   "metadata": {},
   "outputs": [],
   "source": [
    "#Return the value of 4 to the power of 3 (same as 4 * 4 * 4):\n",
    "x = pow(4, 3)\n",
    "print(x)"
   ]
  },
  {
   "cell_type": "code",
   "execution_count": null,
   "id": "1ae2fc6c-e527-472f-ac21-467c0bfee4b1",
   "metadata": {},
   "outputs": [],
   "source": [
    "#Returns the square root of a number\n",
    "x = math.sqrt(64)\n",
    "print(x)"
   ]
  },
  {
   "cell_type": "code",
   "execution_count": null,
   "id": "04c0b68b-f92b-4a42-9e5f-57e6aca9657a",
   "metadata": {},
   "outputs": [],
   "source": [
    "# TASK-SQL"
   ]
  },
  {
   "cell_type": "code",
   "execution_count": null,
   "id": "6555cc2a-c7e2-4d3f-a187-6763d6f8bda2",
   "metadata": {},
   "outputs": [],
   "source": [
    "#SQL is a relational database which is used to manage , manipulate and interact with relational DBs. It stands for Standard Query Language. \n",
    "#Its earlier called as Sequel, which stands for Standard English Query Language.\n",
    "#Manipulating means inserting, deleting, quering of data from databases."
   ]
  },
  {
   "cell_type": "code",
   "execution_count": null,
   "id": "67953afc-232b-4622-8184-14f8dee86beb",
   "metadata": {},
   "outputs": [],
   "source": [
    "# DBMS : Its a Database management software whoch is used to define, create and maintain a standard databases. It works for small DBs.\n",
    "#Here data will be stored in the form of files. It supports single user.it doesnt support normalization. \n",
    "#Its slow as its stores data in the hierarchial form."
   ]
  },
  {
   "cell_type": "code",
   "execution_count": null,
   "id": "1a04ed87-7e70-49e9-8d5c-aafe79b4eddd",
   "metadata": {},
   "outputs": [],
   "source": [
    "# RDBMS : Its a type of DBMS which is used to work on relational dbs. data is stored in the form of schemas, which are called tables. and rows which are called tuples.\n",
    "#Tables have the headers which are column names and rows are the values.\n",
    "#It supports Normalization and its a multi user DB. Its fast when compared to DBMS as data is stored in tables and tables are related to each other.\n",
    "#large databases.\n",
    "# Examples of RDBMS: Sqlite, postgre sql, Mysql,SQL server, Oracle, MS access"
   ]
  },
  {
   "cell_type": "code",
   "execution_count": null,
   "id": "772f53e5-1585-423e-ab39-d51d97bf6575",
   "metadata": {},
   "outputs": [],
   "source": [
    "#create a table called students:"
   ]
  },
  {
   "cell_type": "code",
   "execution_count": null,
   "id": "da8c1e13-f08c-4359-8bcf-d74a4419dc70",
   "metadata": {},
   "outputs": [
    {
     "data": {
      "text/plain": [
       "<sqlite3.Cursor at 0x1fab45c9b40>"
      ]
     },
     "execution_count": 10,
     "metadata": {},
     "output_type": "execute_result"
    }
   ],
   "source": [
    "import sqlite3\n",
    "import csv\n",
    "conn=sqlite3.connect(\"student.db\")\n",
    "query_create_table=\"\"\"create table IF NOT EXISTS student( id integer primary key, name text,age integer, grade text);\"\"\"\n",
    "conn.execute(query_create_table)"
   ]
  },
  {
   "cell_type": "code",
   "execution_count": 11,
   "id": "8fe3cb51-3b20-40f7-b5a3-bed5499a2dbf",
   "metadata": {},
   "outputs": [
    {
     "data": {
      "text/plain": [
       "'create table IF NOT EXISTS student( id integer primary key, name text,age integer, grade text);'"
      ]
     },
     "execution_count": 11,
     "metadata": {},
     "output_type": "execute_result"
    }
   ],
   "source": [
    "query_create_table"
   ]
  },
  {
   "cell_type": "code",
   "execution_count": null,
   "id": "67e37b14-667a-4089-b4bf-9f20fc27335c",
   "metadata": {},
   "outputs": [],
   "source": [
    "# insert some values into database"
   ]
  },
  {
   "cell_type": "code",
   "execution_count": null,
   "id": "3351da2b-724d-4868-aab5-392e0017044f",
   "metadata": {},
   "outputs": [
    {
     "ename": "OperationalError",
     "evalue": "database is locked",
     "output_type": "error",
     "traceback": [
      "\u001b[31m---------------------------------------------------------------------------\u001b[39m",
      "\u001b[31mOperationalError\u001b[39m                          Traceback (most recent call last)",
      "\u001b[36mCell\u001b[39m\u001b[36m \u001b[39m\u001b[32mIn[19]\u001b[39m\u001b[32m, line 2\u001b[39m\n\u001b[32m      1\u001b[39m insert_table=\u001b[33m\"\"\"\u001b[39m\u001b[33minsert into student(id,name,age,grade)values(\u001b[39m\u001b[33m'\u001b[39m\u001b[33m1\u001b[39m\u001b[33m'\u001b[39m\u001b[33m,\u001b[39m\u001b[33m'\u001b[39m\u001b[33mAsma\u001b[39m\u001b[33m'\u001b[39m\u001b[33m,\u001b[39m\u001b[33m'\u001b[39m\u001b[33m20\u001b[39m\u001b[33m'\u001b[39m\u001b[33m,\u001b[39m\u001b[33m'\u001b[39m\u001b[33mfirst\u001b[39m\u001b[33m'\u001b[39m\u001b[33m);\u001b[39m\u001b[33m\"\"\"\u001b[39m\n\u001b[32m----> \u001b[39m\u001b[32m2\u001b[39m \u001b[43mconn\u001b[49m\u001b[43m.\u001b[49m\u001b[43mexecute\u001b[49m\u001b[43m(\u001b[49m\u001b[43minsert_table\u001b[49m\u001b[43m)\u001b[49m\n\u001b[32m      3\u001b[39m conn.close()\n",
      "\u001b[31mOperationalError\u001b[39m: database is locked"
     ]
    }
   ],
   "source": [
    "insert_table=\"\"\"insert into student(id,name,age,grade)values('1','Asma','20','first');\"\"\"\n",
    "conn.execute(insert_table)\n"
   ]
  },
  {
   "cell_type": "code",
   "execution_count": null,
   "id": "f9b8f4fe-ab5d-47ea-ba39-00cfd180a0f6",
   "metadata": {},
   "outputs": [],
   "source": [
    "insert_table=\"\"\"insert into student values(?,?,?,?);\"\"\""
   ]
  },
  {
   "cell_type": "code",
   "execution_count": null,
   "id": "8e0e589e-d710-473b-9f7b-c63586d923a8",
   "metadata": {},
   "outputs": [],
   "source": [
    "multiple_entries=[\n",
    "('7','Shaik','30','distinction'),\n",
    "('2','Manha','21','second'),\n",
    "('3','Ayman','22','third'),\n",
    "('4','Danish','23','first'),\n",
    "('5','Zoya','24','second'),\n",
    "('6','Jaffer','26','third')\n",
    "]"
   ]
  },
  {
   "cell_type": "code",
   "execution_count": 13,
   "id": "9ba42f85-0f8d-46dd-b144-6f3fb0036231",
   "metadata": {},
   "outputs": [],
   "source": []
  },
  {
   "cell_type": "code",
   "execution_count": null,
   "id": "70f31c7a-0b6f-42e3-af2d-359c081c7de2",
   "metadata": {},
   "outputs": [
    {
     "ename": "OperationalError",
     "evalue": "database is locked",
     "output_type": "error",
     "traceback": [
      "\u001b[31m---------------------------------------------------------------------------\u001b[39m",
      "\u001b[31mOperationalError\u001b[39m                          Traceback (most recent call last)",
      "\u001b[36mCell\u001b[39m\u001b[36m \u001b[39m\u001b[32mIn[18]\u001b[39m\u001b[32m, line 1\u001b[39m\n\u001b[32m----> \u001b[39m\u001b[32m1\u001b[39m \u001b[43mconn\u001b[49m\u001b[43m.\u001b[49m\u001b[43mexecutemany\u001b[49m\u001b[43m(\u001b[49m\u001b[43minsert_table\u001b[49m\u001b[43m,\u001b[49m\u001b[43m \u001b[49m\u001b[43mmultiple_entries\u001b[49m\u001b[43m)\u001b[49m\n\u001b[32m      2\u001b[39m conn.commit()\n",
      "\u001b[31mOperationalError\u001b[39m: database is locked"
     ]
    }
   ],
   "source": [
    "conn.executemany(insert_table, multiple_entries)\n"
   ]
  },
  {
   "cell_type": "code",
   "execution_count": null,
   "id": "b34b6604-e38c-4a9a-85eb-ecb33fcacd65",
   "metadata": {},
   "outputs": [],
   "source": [
    "query_selectall=\"\"\"select * from student;\"\"\""
   ]
  },
  {
   "cell_type": "code",
   "execution_count": null,
   "id": "224e23b3-4031-462d-ba61-8958f49c401e",
   "metadata": {},
   "outputs": [],
   "source": [
    "data=conn.execute(query_selectall)"
   ]
  },
  {
   "cell_type": "code",
   "execution_count": null,
   "id": "7b058dcf-6d67-4e62-8788-ec30998ea06a",
   "metadata": {},
   "outputs": [],
   "source": [
    "data"
   ]
  },
  {
   "cell_type": "code",
   "execution_count": null,
   "id": "5a25edca-2592-4c9a-a16d-8d41e79d7475",
   "metadata": {},
   "outputs": [],
   "source": [
    "for row in data:\n",
    "    print(row)"
   ]
  },
  {
   "cell_type": "code",
   "execution_count": null,
   "id": "8bfb8684-35b8-453e-8a6a-e5873ff151e1",
   "metadata": {},
   "outputs": [],
   "source": [
    "#conn.executemany(\"INSERT OR IGNORE INTO student VALUES (?, ?, ?, ?);\", multiple_entries) - we can use this to overcome integrity errors.."
   ]
  },
  {
   "cell_type": "code",
   "execution_count": null,
   "id": "4ad87135-c27d-44a5-9988-283f26fd5de1",
   "metadata": {},
   "outputs": [
    {
     "ename": "NameError",
     "evalue": "name 'sqlite3' is not defined",
     "output_type": "error",
     "traceback": [
      "\u001b[31m---------------------------------------------------------------------------\u001b[39m",
      "\u001b[31mNameError\u001b[39m                                 Traceback (most recent call last)",
      "\u001b[36mCell\u001b[39m\u001b[36m \u001b[39m\u001b[32mIn[9]\u001b[39m\u001b[32m, line 23\u001b[39m\n\u001b[32m     20\u001b[39m         conn.close()\n\u001b[32m     21\u001b[39m         \u001b[38;5;28;01mreturn\u001b[39;00m \u001b[33mf\u001b[39m\u001b[33m\"\u001b[39m\u001b[33mAn error occurred: \u001b[39m\u001b[38;5;132;01m{\u001b[39;00me\u001b[38;5;132;01m}\u001b[39;00m\u001b[33m\"\u001b[39m\n\u001b[32m---> \u001b[39m\u001b[32m23\u001b[39m result = \u001b[43mstud_fun\u001b[49m\u001b[43m(\u001b[49m\u001b[33;43m\"\u001b[39;49m\u001b[33;43mSELECT * FROM student;\u001b[39;49m\u001b[33;43m\"\u001b[39;49m\u001b[43m)\u001b[49m\n\u001b[32m     24\u001b[39m \u001b[38;5;28;01mfor\u001b[39;00m row \u001b[38;5;129;01min\u001b[39;00m result:\n\u001b[32m     25\u001b[39m     \u001b[38;5;28mprint\u001b[39m(row)\n",
      "\u001b[36mCell\u001b[39m\u001b[36m \u001b[39m\u001b[32mIn[9]\u001b[39m\u001b[32m, line 2\u001b[39m, in \u001b[36mstud_fun\u001b[39m\u001b[34m(query, data, db)\u001b[39m\n\u001b[32m      1\u001b[39m \u001b[38;5;28;01mdef\u001b[39;00m\u001b[38;5;250m \u001b[39m\u001b[34mstud_fun\u001b[39m(query,data=\u001b[38;5;28;01mNone\u001b[39;00m,db=\u001b[33m'\u001b[39m\u001b[33mstudent.db\u001b[39m\u001b[33m'\u001b[39m): \u001b[38;5;66;03m#The SQL query to run,--data is type, list or single data,--db is our db\u001b[39;00m\n\u001b[32m----> \u001b[39m\u001b[32m2\u001b[39m     conn=\u001b[43msqlite3\u001b[49m.connect(db) \u001b[38;5;66;03m#connects to the SQLite database file.\u001b[39;00m\n\u001b[32m      3\u001b[39m     cursor=conn.cursor() \u001b[38;5;66;03m# Creates a cursor object to execute SQL commands.\u001b[39;00m\n\u001b[32m      4\u001b[39m     \u001b[38;5;28;01mtry\u001b[39;00m:\n",
      "\u001b[31mNameError\u001b[39m: name 'sqlite3' is not defined"
     ]
    }
   ],
   "source": [
    "def stud_fun(query,data=None,db='student.db'): #The SQL query to run,--data is type, list or single data,--db is our db\n",
    "    conn=sqlite3.connect(db) #connects to the SQLite database file.\n",
    "    cursor=conn.cursor() # Creates a cursor object to execute SQL commands.\n",
    "    try:\n",
    "        if data:\n",
    "            cursor.executemany(query,data) if isinstance(data,list) else cursor.execute(query,data) # isinstance checks the type of data.if single row it runs execute or if data is many rows, it goes executemany()\n",
    "        else:\n",
    "            cursor.execute(query)\n",
    "            \n",
    "# Tries to run the SQL query passed into the function.\n",
    "        if query.strip().lower().startswith(\"select\"):\n",
    "            result=cursor.fetchall() #This line fetches all result rows\n",
    "            conn.close()\n",
    "            return result #sends the list of rows back to the caller.\n",
    "        else:\n",
    "            conn.commit()#If it's not a SELECT (like INSERT, DELETE, UPDATE):Commits the changes to the DB (e.g., save new records).\n",
    "            conn.close()\n",
    "            return \"query run successfully\"\n",
    "    except sqlite3.Error as e:\n",
    "        conn.close()\n",
    "        return f\"An error occurred: {e}\"\n",
    "        \n",
    "result = stud_fun(\"SELECT * FROM student;\")\n",
    "for row in result:\n",
    "    print(row)\n",
    "\n",
    "\n",
    "       \n",
    "    "
   ]
  },
  {
   "cell_type": "code",
   "execution_count": null,
   "id": "36884034-0d64-4c54-ae89-c738bc74c159",
   "metadata": {},
   "outputs": [],
   "source": [
    "query_update=\"\"\"update car set carmake='Maruti Suzuki 800' where carid = '1959';\"\"\"\n",
    "result_update = queryfun(query_update)\n",
    "print(result_update)"
   ]
  },
  {
   "cell_type": "code",
   "execution_count": null,
   "id": "3eada165-0bb5-42a2-aed8-e86567a8119e",
   "metadata": {},
   "outputs": [],
   "source": []
  }
 ],
 "metadata": {
  "kernelspec": {
   "display_name": "Python 3 (ipykernel)",
   "language": "python",
   "name": "python3"
  },
  "language_info": {
   "codemirror_mode": {
    "name": "ipython",
    "version": 3
   },
   "file_extension": ".py",
   "mimetype": "text/x-python",
   "name": "python",
   "nbconvert_exporter": "python",
   "pygments_lexer": "ipython3",
   "version": "3.13.3"
  }
 },
 "nbformat": 4,
 "nbformat_minor": 5
}
